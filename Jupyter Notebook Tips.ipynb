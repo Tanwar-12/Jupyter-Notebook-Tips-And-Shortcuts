{
 "cells": [
  {
   "cell_type": "markdown",
   "id": "91d3ba13-af5a-4e2f-8e94-e8cd5acbeb81",
   "metadata": {},
   "source": [
    "## **Jupyter Notebook Tips And Shortcuts**"
   ]
  },
  {
   "cell_type": "markdown",
   "id": "22267ff0-08e2-4990-9ac0-185fbb842ca0",
   "metadata": {},
   "source": [
    "* Jupyter Notebook is widely used for data analysis.\n",
    "* The Jupyter Notebook App is a client-server application that allows editing and running notebook documents by a browser."
   ]
  },
  {
   "cell_type": "markdown",
   "id": "3d82d216-ac3c-465a-a652-03e589dcf2c2",
   "metadata": {},
   "source": [
    "### **Types of cells**\n",
    "* Jupyter Notebook relies heavily on the concept of cells. The 2 main types of cells are Code and Markdown.\n",
    "\n",
    "**Code cell:** for running code snippets, e.g. python code\n",
    "\n",
    "**Markdown cell:** for displaying formatted text and media assets."
   ]
  },
  {
   "cell_type": "markdown",
   "id": "912d6d05-f258-4f8e-baad-eed0e089befc",
   "metadata": {},
   "source": [
    "* First, we need to know that they are 2 modes in the Jupyter Notebook App: command mode and edit mode. I’ll start with the shortcuts shared between the two modes."
   ]
  },
  {
   "cell_type": "markdown",
   "id": "6ae7962c-c236-4644-9e57-d8b748ba732b",
   "metadata": {},
   "source": [
    "### **Shortcuts in both modes:**"
   ]
  },
  {
   "cell_type": "markdown",
   "id": "fd3b2a7a-750e-4d1c-89cd-22a109110f4e",
   "metadata": {},
   "source": [
    "* Shift + Enter run the current cell, select below\n",
    "* Ctrl + Enter run selected cells\n",
    "* Alt + Enter run the current cell, insert below\n",
    "* Ctrl + S save and checkpoint"
   ]
  },
  {
   "cell_type": "markdown",
   "id": "21ee36d0-2ae5-4729-a1b2-e7019297f92a",
   "metadata": {},
   "source": [
    "## **While in command mode (press Esc to activate):**\n",
    "\n",
    "**Enter take you into edit mode**\n",
    "* H show all shortcuts\n",
    "* Up select cell above\n",
    "* Down select cell below\n",
    "* Shift + Up extend selected cells above\n",
    "* Shift + Down extend selected cells below\n",
    "* A insert cell above\n",
    "* B insert cell below\n",
    "* X cut selected cells\n",
    "* C copy selected cells\n",
    "* V paste cells below\n",
    "* Shift + V paste cells above\n",
    "* D, D (press the key twice) delete selected cells\n",
    "* Z undo cell deletion\n",
    "* S Save and Checkpoint\n",
    "* Y change the cell type to Code\n",
    "* M change the cell type to Markdown\n",
    "* P open the command palette.\n",
    "  \n",
    "**This dialog helps you run any command by name. It’s really useful if you don’t know some shortcut or when you don’t have a shortcut for the wanted command.**\n",
    "\n",
    "### **Command Palette**\n",
    "\n",
    "* Shift + Space scroll notebook up\n",
    "* Space scroll notebook down\n",
    "* While in edit mode (pressEnter to activate)\n",
    "\n",
    "**Esc take you into command mode**\n",
    "**Tab code completion or indent**\n",
    "* Shift + Tab tooltip\n",
    "* Ctrl + ] indent\n",
    "* Ctrl + [ dedent\n",
    "* Ctrl + A select all\n",
    "* Ctrl + Z undo\n",
    "* Ctrl + Shift + Z or Ctrl + Y redo\n",
    "* Ctrl + Home go to cell start\n",
    "* Ctrl + End go to cell end\n",
    "* Ctrl + Left go one word left\n",
    "* Ctrl + Right go one word right\n",
    "* Ctrl + Shift + P open the command palette\n",
    "* Down move cursor down\n",
    "* Up move cursor up"
   ]
  },
  {
   "cell_type": "code",
   "execution_count": null,
   "id": "70f3f6f8-89d5-4de3-88b0-fda6e3a68025",
   "metadata": {},
   "outputs": [],
   "source": []
  }
 ],
 "metadata": {
  "kernelspec": {
   "display_name": "Python 3 (ipykernel)",
   "language": "python",
   "name": "python3"
  },
  "language_info": {
   "codemirror_mode": {
    "name": "ipython",
    "version": 3
   },
   "file_extension": ".py",
   "mimetype": "text/x-python",
   "name": "python",
   "nbconvert_exporter": "python",
   "pygments_lexer": "ipython3",
   "version": "3.11.7"
  }
 },
 "nbformat": 4,
 "nbformat_minor": 5
}
